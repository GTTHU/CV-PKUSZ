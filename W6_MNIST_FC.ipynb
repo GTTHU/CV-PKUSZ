{
 "cells": [
  {
   "cell_type": "code",
   "execution_count": 1,
   "metadata": {},
   "outputs": [
    {
     "name": "stdout",
     "output_type": "stream",
     "text": [
      "torch.Size([60000, 28, 28])\n",
      "torch.Size([60000, 1, 28, 28])\n"
     ]
    },
    {
     "name": "stderr",
     "output_type": "stream",
     "text": [
      "/Users/gyl/opt/anaconda3/envs/pytorch/lib/python3.7/site-packages/torchvision/datasets/mnist.py:58: UserWarning: train_data has been renamed data\n",
      "  warnings.warn(\"train_data has been renamed data\")\n",
      "/Users/gyl/opt/anaconda3/envs/pytorch/lib/python3.7/site-packages/torchvision/datasets/mnist.py:48: UserWarning: train_labels has been renamed targets\n",
      "  warnings.warn(\"train_labels has been renamed targets\")\n",
      "/Users/gyl/opt/anaconda3/envs/pytorch/lib/python3.7/site-packages/torchvision/datasets/mnist.py:63: UserWarning: test_data has been renamed data\n",
      "  warnings.warn(\"test_data has been renamed data\")\n",
      "/Users/gyl/opt/anaconda3/envs/pytorch/lib/python3.7/site-packages/torchvision/datasets/mnist.py:53: UserWarning: test_labels has been renamed targets\n",
      "  warnings.warn(\"test_labels has been renamed targets\")\n"
     ]
    }
   ],
   "source": [
    "import torch\n",
    "import torch.nn as nn\n",
    "import torch.utils.data as Data\n",
    "import torchvision\n",
    "import torch.nn.functional as F\n",
    "import numpy as np\n",
    "\n",
    "# torch.manual_seed(1)\n",
    "\n",
    "EPOCH = 2\n",
    "LR = 0.001\n",
    "DOWNLOAD_MNIST = True\n",
    "\n",
    "train_data = torchvision.datasets.MNIST(root='./mnist/', train=True, transform=torchvision.transforms.ToTensor(),\n",
    "                                        download=DOWNLOAD_MNIST, )\n",
    "test_data = torchvision.datasets.MNIST(root='./mnist/', train=False)\n",
    "\n",
    "print(train_data.train_data.shape)\n",
    "\n",
    "train_x = torch.unsqueeze(train_data.train_data, dim=1).type(torch.FloatTensor) / 255.\n",
    "train_y = train_data.train_labels\n",
    "print(train_x.shape)\n",
    "\n",
    "test_x = torch.unsqueeze(test_data.test_data, dim=1).type(torch.FloatTensor)[:2000] / 255.  # Tensor on GPU\n",
    "test_y = test_data.test_labels[:2000]"
   ]
  },
  {
   "cell_type": "code",
   "execution_count": 2,
   "metadata": {},
   "outputs": [
    {
     "data": {
      "text/plain": [
       "torch.Size([60000])"
      ]
     },
     "execution_count": 2,
     "metadata": {},
     "output_type": "execute_result"
    }
   ],
   "source": [
    "train_y.shape"
   ]
  },
  {
   "cell_type": "code",
   "execution_count": 3,
   "metadata": {},
   "outputs": [
    {
     "name": "stdout",
     "output_type": "stream",
     "text": [
      "tensor([5, 0, 4, 1, 9, 2, 1, 3, 1, 4])\n"
     ]
    }
   ],
   "source": [
    "print(train_y[:10])"
   ]
  },
  {
   "cell_type": "code",
   "execution_count": 4,
   "metadata": {},
   "outputs": [
    {
     "data": {
      "text/plain": [
       "torch.Size([2000, 1, 28, 28])"
      ]
     },
     "execution_count": 4,
     "metadata": {},
     "output_type": "execute_result"
    }
   ],
   "source": [
    "test_x.shape"
   ]
  },
  {
   "cell_type": "code",
   "execution_count": 5,
   "metadata": {},
   "outputs": [
    {
     "data": {
      "text/plain": [
       "torch.Size([2000])"
      ]
     },
     "execution_count": 5,
     "metadata": {},
     "output_type": "execute_result"
    }
   ],
   "source": [
    "test_y.shape"
   ]
  },
  {
   "cell_type": "code",
   "execution_count": 6,
   "metadata": {},
   "outputs": [
    {
     "name": "stdout",
     "output_type": "stream",
     "text": [
      "tensor([7, 2, 1, 0, 4, 1, 4, 9, 5, 9])\n"
     ]
    }
   ],
   "source": [
    "print(test_y[:10])"
   ]
  },
  {
   "cell_type": "code",
   "execution_count": 7,
   "metadata": {},
   "outputs": [],
   "source": [
    "import matplotlib.pyplot as plt"
   ]
  },
  {
   "cell_type": "code",
   "execution_count": 8,
   "metadata": {},
   "outputs": [
    {
     "data": {
      "text/plain": [
       "<matplotlib.image.AxesImage at 0x7fe1c2936690>"
      ]
     },
     "execution_count": 8,
     "metadata": {},
     "output_type": "execute_result"
    },
    {
     "data": {
      "image/png": "[encoded data removed]",
      "text/plain": [
       "<Figure size 640x480 with 1 Axes>"
      ]
     },
     "metadata": {},
     "output_type": "display_data"
    }
   ],
   "source": [
    "plt.imshow(test_x[0,0,:,:].numpy(), 'gray')"
   ]
  },
  {
   "cell_type": "code",
   "execution_count": 9,
   "metadata": {},
   "outputs": [
    {
     "data": {
      "text/plain": [
       "tensor([7, 2, 1, 0, 4, 1, 4, 9, 5, 9])"
      ]
     },
     "execution_count": 9,
     "metadata": {},
     "output_type": "execute_result"
    }
   ],
   "source": [
    "test_y[:10]"
   ]
  },
  {
   "cell_type": "code",
   "execution_count": 10,
   "metadata": {},
   "outputs": [],
   "source": [
    "loss_func = nn.CrossEntropyLoss()"
   ]
  },
  {
   "cell_type": "code",
   "execution_count": 11,
   "metadata": {},
   "outputs": [
    {
     "name": "stdout",
     "output_type": "stream",
     "text": [
      "tensor(2.5655)\n"
     ]
    }
   ],
   "source": [
    "aa = torch.randn(32, 10)\n",
    "bb = test_y[:32]\n",
    "cc = loss_func(aa,bb)\n",
    "print(cc)"
   ]
  },
  {
   "cell_type": "code",
   "execution_count": 12,
   "metadata": {},
   "outputs": [],
   "source": [
    "import torch.nn.functional as F"
   ]
  },
  {
   "cell_type": "code",
   "execution_count": 13,
   "metadata": {},
   "outputs": [
    {
     "name": "stdout",
     "output_type": "stream",
     "text": [
      "tensor([[1., 0., 0., 0., 0., 0., 0., 0., 0., 0.],\n",
      "        [0., 0., 0., 0., 0., 0., 0., 1., 0., 0.],\n",
      "        [0., 0., 0., 0., 0., 0., 0., 0., 0., 1.]])\n"
     ]
    }
   ],
   "source": [
    "target = torch.tensor([0,7,9]) # 标签 这里还有一个torch.tensor与torch.Tensor的知识点https://blog.csdn.net/weixin_40607008/article/details/107348254\n",
    "one_hot = F.one_hot(target).float() \n",
    "print(one_hot)"
   ]
  },
  {
   "cell_type": "code",
   "execution_count": 14,
   "metadata": {},
   "outputs": [
    {
     "name": "stdout",
     "output_type": "stream",
     "text": [
      "tensor([[0.3700, 0.0527, 0.0904, 0.1832, 0.3038],\n",
      "        [0.0347, 0.1287, 0.1598, 0.0687, 0.6082],\n",
      "        [0.0908, 0.4053, 0.0590, 0.3907, 0.0542]])\n"
     ]
    }
   ],
   "source": [
    "target = torch.randn(3, 5).softmax(dim=1)\n",
    "print(target)"
   ]
  },
  {
   "cell_type": "code",
   "execution_count": 15,
   "metadata": {},
   "outputs": [
    {
     "name": "stdout",
     "output_type": "stream",
     "text": [
      "tensor([[ 0.3831,  0.3972, -0.3194,  0.3713,  1.0335],\n",
      "        [ 0.6378,  1.0664, -0.4045, -1.2725,  1.1779],\n",
      "        [ 0.2202, -0.0091, -0.5421, -1.1051,  0.3281]])\n"
     ]
    }
   ],
   "source": [
    "target = torch.randn(3, 5)\n",
    "print(target)"
   ]
  },
  {
   "cell_type": "code",
   "execution_count": 16,
   "metadata": {},
   "outputs": [
    {
     "name": "stdout",
     "output_type": "stream",
     "text": [
      "tensor([[0.1847, 0.1873, 0.0915, 0.1825, 0.3540],\n",
      "        [0.2104, 0.3231, 0.0742, 0.0312, 0.3611],\n",
      "        [0.2746, 0.2184, 0.1281, 0.0730, 0.3059]])\n"
     ]
    }
   ],
   "source": [
    "print(target.softmax(dim=1))"
   ]
  },
  {
   "cell_type": "code",
   "execution_count": 17,
   "metadata": {},
   "outputs": [
    {
     "name": "stdout",
     "output_type": "stream",
     "text": [
      "tensor([[0.3185, 0.2763, 0.3678, 0.7034, 0.3775],\n",
      "        [0.4109, 0.5396, 0.3378, 0.1359, 0.4361],\n",
      "        [0.2706, 0.1841, 0.2944, 0.1607, 0.1864]])\n"
     ]
    }
   ],
   "source": [
    "print(target.softmax(dim=0))"
   ]
  },
  {
   "cell_type": "code",
   "execution_count": 18,
   "metadata": {},
   "outputs": [],
   "source": [
    "import pdb"
   ]
  },
  {
   "cell_type": "code",
   "execution_count": 19,
   "metadata": {},
   "outputs": [
    {
     "name": "stdout",
     "output_type": "stream",
     "text": [
      "Epoch:  0 | train loss: 2.3017 | test accuracy: 0.199\n",
      "Epoch:  0 | train loss: 0.3840 | test accuracy: 0.834\n",
      "Epoch:  0 | train loss: 0.4284 | test accuracy: 0.858\n",
      "Epoch:  0 | train loss: 0.4404 | test accuracy: 0.874\n",
      "Epoch:  0 | train loss: 0.2592 | test accuracy: 0.882\n",
      "Epoch:  0 | train loss: 0.1574 | test accuracy: 0.887\n",
      "Epoch:  0 | train loss: 0.4323 | test accuracy: 0.895\n",
      "Epoch:  0 | train loss: 0.1539 | test accuracy: 0.898\n",
      "Epoch:  1 | train loss: 0.3229 | test accuracy: 0.905\n",
      "Epoch:  1 | train loss: 0.1373 | test accuracy: 0.903\n",
      "Epoch:  1 | train loss: 0.2222 | test accuracy: 0.914\n",
      "Epoch:  1 | train loss: 0.2289 | test accuracy: 0.916\n",
      "Epoch:  1 | train loss: 0.1447 | test accuracy: 0.914\n",
      "Epoch:  1 | train loss: 0.3222 | test accuracy: 0.920\n",
      "Epoch:  1 | train loss: 0.1291 | test accuracy: 0.925\n",
      "Epoch:  1 | train loss: 0.1438 | test accuracy: 0.925\n",
      "tensor([7, 2, 1, 0, 4, 1, 4, 9, 6, 9]) prediction number\n",
      "tensor([7, 2, 1, 0, 4, 1, 4, 9, 5, 9]) real number\n"
     ]
    }
   ],
   "source": [
    "class FC(nn.Module):\n",
    "    def __init__(self):\n",
    "        super(FC, self).__init__()\n",
    "        self.fc1 = nn.Linear(784, 256)\n",
    "        self.fc2 = nn.Linear(256, 10)\n",
    "#         self.fc3 = nn.Linear(10, 10)\n",
    "\n",
    "    def forward(self, x):\n",
    "        x = x.view(x.size(0), -1)\n",
    "        x = self.fc1(x)\n",
    "        x = F.relu(x)\n",
    "        x = self.fc2(x)\n",
    "#         x = F.relu(x)\n",
    "#         x = self.fc3(x)\n",
    "\n",
    "        output = x\n",
    "        return output\n",
    "\n",
    "\n",
    "fc = FC()\n",
    "\n",
    "optimizer = torch.optim.Adam(fc.parameters(), lr=LR)\n",
    "# loss_func = nn.MSELoss()\n",
    "loss_func = nn.CrossEntropyLoss()\n",
    "\n",
    "data_size = 20000\n",
    "batch_size = 50\n",
    "\n",
    "for epoch in range(EPOCH):\n",
    "    random_indx = np.random.permutation(data_size)\n",
    "    for batch_i in range(data_size // batch_size):\n",
    "        indx = random_indx[batch_i * batch_size:(batch_i + 1) * batch_size]\n",
    "\n",
    "        b_x = train_x[indx, :]\n",
    "        b_y = train_y[indx]\n",
    "#         print(b_x.shape)\n",
    "#         print(b_y.shape)\n",
    "#         pdb.set_trace()\n",
    "\n",
    "        output = fc(b_x)\n",
    "    \n",
    "        loss = loss_func(output, b_y)\n",
    "\n",
    "        loss.backward()\n",
    "        optimizer.step()\n",
    "        optimizer.zero_grad()\n",
    "\n",
    "        if batch_i % 50 == 0:\n",
    "            test_output = fc(test_x)\n",
    "            pred_y = torch.max(test_output, 1)[1].data.squeeze()\n",
    "            # pred_y = torch.max(test_output, 1)[1].data.squeeze()\n",
    "            accuracy = torch.sum(pred_y == test_y).type(torch.FloatTensor) / test_y.size(0)\n",
    "            print('Epoch: ', epoch, '| train loss: %.4f' % loss.data.cpu().numpy(), '| test accuracy: %.3f' % accuracy)\n",
    "\n",
    "test_output = fc(test_x[:10])\n",
    "pred_y = torch.max(test_output, 1)[1].data.squeeze()  # move the computation in GPU\n",
    "\n",
    "print(pred_y, 'prediction number')\n",
    "print(test_y[:10], 'real number')"
   ]
  },
  {
   "cell_type": "code",
   "execution_count": 20,
   "metadata": {},
   "outputs": [
    {
     "name": "stdout",
     "output_type": "stream",
     "text": [
      "Epoch:  0 | train loss: 2.3069 | test accuracy: 0.207\n",
      "Epoch:  0 | train loss: 0.4631 | test accuracy: 0.818\n",
      "Epoch:  0 | train loss: 0.6844 | test accuracy: 0.876\n",
      "Epoch:  0 | train loss: 0.4737 | test accuracy: 0.882\n",
      "Epoch:  0 | train loss: 0.3085 | test accuracy: 0.898\n",
      "Epoch:  0 | train loss: 0.1782 | test accuracy: 0.908\n",
      "Epoch:  0 | train loss: 0.1765 | test accuracy: 0.908\n",
      "Epoch:  0 | train loss: 0.3366 | test accuracy: 0.923\n",
      "Epoch:  1 | train loss: 0.0547 | test accuracy: 0.922\n",
      "Epoch:  1 | train loss: 0.1700 | test accuracy: 0.919\n",
      "Epoch:  1 | train loss: 0.0674 | test accuracy: 0.928\n",
      "Epoch:  1 | train loss: 0.1809 | test accuracy: 0.931\n",
      "Epoch:  1 | train loss: 0.1502 | test accuracy: 0.942\n",
      "Epoch:  1 | train loss: 0.0669 | test accuracy: 0.932\n",
      "Epoch:  1 | train loss: 0.0463 | test accuracy: 0.945\n",
      "Epoch:  1 | train loss: 0.0858 | test accuracy: 0.942\n",
      "tensor([7, 2, 1, 0, 4, 1, 4, 9, 6, 9]) prediction number\n",
      "tensor([7, 2, 1, 0, 4, 1, 4, 9, 5, 9]) real number\n"
     ]
    }
   ],
   "source": [
    "class FC_ch(nn.Module):\n",
    "    def __init__(self):\n",
    "        super(FC_ch, self).__init__()\n",
    "        self.fc1 = nn.Linear(784, 512)\n",
    "        self.dropout = nn.Dropout(0.5)\n",
    "        self.conv = nn.Conv1d(512, 256, kernel_size=5, stride=1, padding=2)\n",
    "        self.fc2 = nn.Linear(256, 10)\n",
    "#         self.fc3 = nn.Linear(10, 10)\n",
    "\n",
    "    def forward(self, x):\n",
    "        x = x.view(x.size(0), -1)\n",
    "        x = self.fc1(x)\n",
    "        x = F.relu(x)\n",
    "        x = x.unsqueeze(-1)\n",
    "        x = F.relu(self.conv(x))\n",
    "        x = x.squeeze(-1)\n",
    "        x = self.fc2(x)\n",
    "\n",
    "        output = x\n",
    "        return output\n",
    "\n",
    "\n",
    "fc = FC_ch()\n",
    "\n",
    "optimizer = torch.optim.Adam(fc.parameters(), lr=LR)\n",
    "# loss_func = nn.MSELoss()\n",
    "loss_func = nn.CrossEntropyLoss()\n",
    "\n",
    "data_size = 20000\n",
    "batch_size = 50\n",
    "\n",
    "for epoch in range(EPOCH):\n",
    "    random_indx = np.random.permutation(data_size)\n",
    "    for batch_i in range(data_size // batch_size):\n",
    "        indx = random_indx[batch_i * batch_size:(batch_i + 1) * batch_size]\n",
    "\n",
    "        b_x = train_x[indx, :]\n",
    "        b_y = train_y[indx]\n",
    "#         print(b_x.shape)\n",
    "#         print(b_y.shape)\n",
    "#         pdb.set_trace()\n",
    "\n",
    "        output = fc(b_x)\n",
    "    \n",
    "        loss = loss_func(output, b_y)\n",
    "\n",
    "        loss.backward()\n",
    "        optimizer.step()\n",
    "        optimizer.zero_grad()\n",
    "\n",
    "        if batch_i % 50 == 0:\n",
    "            test_output = fc(test_x)\n",
    "            pred_y = torch.max(test_output, 1)[1].data.squeeze()\n",
    "            # pred_y = torch.max(test_output, 1)[1].data.squeeze()\n",
    "            accuracy = torch.sum(pred_y == test_y).type(torch.FloatTensor) / test_y.size(0)\n",
    "            print('Epoch: ', epoch, '| train loss: %.4f' % loss.data.cpu().numpy(), '| test accuracy: %.3f' % accuracy)\n",
    "\n",
    "test_output = fc(test_x[:10])\n",
    "pred_y = torch.max(test_output, 1)[1].data.squeeze()  # move the computation in GPU\n",
    "\n",
    "print(pred_y, 'prediction number')\n",
    "print(test_y[:10], 'real number')"
   ]
  },
  {
   "cell_type": "code",
   "execution_count": 21,
   "metadata": {
    "scrolled": true
   },
   "outputs": [
    {
     "name": "stdout",
     "output_type": "stream",
     "text": [
      "Epoch:  0 | train loss: 2.2936 | test accuracy: 0.146\n",
      "Epoch:  0 | train loss: 0.6471 | test accuracy: 0.775\n",
      "Epoch:  0 | train loss: 0.3816 | test accuracy: 0.849\n",
      "Epoch:  0 | train loss: 0.2890 | test accuracy: 0.864\n",
      "Epoch:  0 | train loss: 0.1633 | test accuracy: 0.885\n",
      "Epoch:  0 | train loss: 0.1905 | test accuracy: 0.883\n",
      "Epoch:  0 | train loss: 0.2865 | test accuracy: 0.902\n",
      "Epoch:  0 | train loss: 0.1421 | test accuracy: 0.922\n",
      "Epoch:  1 | train loss: 0.1407 | test accuracy: 0.911\n",
      "Epoch:  1 | train loss: 0.2487 | test accuracy: 0.909\n",
      "Epoch:  1 | train loss: 0.0749 | test accuracy: 0.921\n",
      "Epoch:  1 | train loss: 0.2111 | test accuracy: 0.927\n",
      "Epoch:  1 | train loss: 0.2710 | test accuracy: 0.920\n",
      "Epoch:  1 | train loss: 0.2366 | test accuracy: 0.933\n",
      "Epoch:  1 | train loss: 0.1679 | test accuracy: 0.933\n",
      "Epoch:  1 | train loss: 0.1959 | test accuracy: 0.936\n",
      "tensor([7, 2, 1, 0, 4, 1, 4, 9, 6, 9]) prediction number\n",
      "tensor([7, 2, 1, 0, 4, 1, 4, 9, 5, 9]) real number\n"
     ]
    }
   ],
   "source": [
    "class FC_ch(nn.Module):\n",
    "    def __init__(self):\n",
    "        super(FC_ch, self).__init__()\n",
    "        self.fc1 = nn.Linear(784, 512)\n",
    "        self.dropout = nn.Dropout(0.5)\n",
    "        self.conv = nn.Conv1d(512, 256, kernel_size=5, stride=1, padding=2)\n",
    "        self.fc2 = nn.Linear(256, 10)\n",
    "#         self.fc3 = nn.Linear(10, 10)\n",
    "\n",
    "    def forward(self, x):\n",
    "        x = x.view(x.size(0), -1)\n",
    "        x = self.fc1(x)\n",
    "        x = F.relu(x)\n",
    "        x = x.unsqueeze(-1)\n",
    "        x = F.relu(self.conv(x))\n",
    "        x = x.squeeze(-1)\n",
    "        x = self.dropout(x)\n",
    "        x = self.fc2(x)\n",
    "\n",
    "        output = x\n",
    "        return output\n",
    "\n",
    "\n",
    "fc = FC_ch()\n",
    "\n",
    "optimizer = torch.optim.Adam(fc.parameters(), lr=LR)\n",
    "# loss_func = nn.MSELoss()\n",
    "loss_func = nn.CrossEntropyLoss()\n",
    "\n",
    "data_size = 20000\n",
    "batch_size = 50\n",
    "\n",
    "for epoch in range(EPOCH):\n",
    "    random_indx = np.random.permutation(data_size)\n",
    "    for batch_i in range(data_size // batch_size):\n",
    "        indx = random_indx[batch_i * batch_size:(batch_i + 1) * batch_size]\n",
    "\n",
    "        b_x = train_x[indx, :]\n",
    "        b_y = train_y[indx]\n",
    "#         print(b_x.shape)\n",
    "#         print(b_y.shape)\n",
    "#         pdb.set_trace()\n",
    "\n",
    "        output = fc(b_x)\n",
    "    \n",
    "        loss = loss_func(output, b_y)\n",
    "\n",
    "        loss.backward()\n",
    "        optimizer.step()\n",
    "        optimizer.zero_grad()\n",
    "\n",
    "        if batch_i % 50 == 0:\n",
    "            test_output = fc(test_x)\n",
    "            pred_y = torch.max(test_output, 1)[1].data.squeeze()\n",
    "            # pred_y = torch.max(test_output, 1)[1].data.squeeze()\n",
    "            accuracy = torch.sum(pred_y == test_y).type(torch.FloatTensor) / test_y.size(0)\n",
    "            print('Epoch: ', epoch, '| train loss: %.4f' % loss.data.cpu().numpy(), '| test accuracy: %.3f' % accuracy)\n",
    "\n",
    "test_output = fc(test_x[:10])\n",
    "pred_y = torch.max(test_output, 1)[1].data.squeeze()  # move the computation in GPU\n",
    "\n",
    "print(pred_y, 'prediction number')\n",
    "print(test_y[:10], 'real number')"
   ]
  },
  {
   "cell_type": "code",
   "execution_count": 22,
   "metadata": {},
   "outputs": [
    {
     "name": "stdout",
     "output_type": "stream",
     "text": [
      "Epoch:  0 | train loss: 2.3080 | test accuracy: 0.199\n",
      "Epoch:  0 | train loss: 0.2867 | test accuracy: 0.809\n",
      "Epoch:  0 | train loss: 0.3241 | test accuracy: 0.837\n",
      "Epoch:  0 | train loss: 0.3691 | test accuracy: 0.859\n",
      "Epoch:  0 | train loss: 0.1927 | test accuracy: 0.892\n",
      "Epoch:  0 | train loss: 0.1264 | test accuracy: 0.896\n",
      "Epoch:  0 | train loss: 0.1757 | test accuracy: 0.910\n",
      "Epoch:  0 | train loss: 0.2547 | test accuracy: 0.914\n",
      "Epoch:  1 | train loss: 0.1143 | test accuracy: 0.918\n",
      "Epoch:  1 | train loss: 0.1122 | test accuracy: 0.922\n",
      "Epoch:  1 | train loss: 0.1395 | test accuracy: 0.923\n",
      "Epoch:  1 | train loss: 0.0361 | test accuracy: 0.933\n",
      "Epoch:  1 | train loss: 0.5188 | test accuracy: 0.936\n",
      "Epoch:  1 | train loss: 0.2446 | test accuracy: 0.930\n",
      "Epoch:  1 | train loss: 0.0987 | test accuracy: 0.937\n",
      "Epoch:  1 | train loss: 0.2388 | test accuracy: 0.946\n",
      "tensor([7, 2, 1, 0, 4, 1, 4, 9, 6, 9]) prediction number\n",
      "tensor([7, 2, 1, 0, 4, 1, 4, 9, 5, 9]) real number\n"
     ]
    }
   ],
   "source": [
    "class FC_ch(nn.Module):\n",
    "    def __init__(self):\n",
    "        super(FC_ch, self).__init__()\n",
    "#         self.dropout = nn.Dropout(0.5)\n",
    "        self.conv1 = nn.Conv1d(784, 512, kernel_size=5, stride=1, padding=2)\n",
    "        self.conv2 = nn.Conv1d(512, 256, kernel_size=5, stride=1, padding=2)\n",
    "        self.fc = nn.Linear(256, 10)\n",
    "\n",
    "    def forward(self, x):\n",
    "        x = x.view(x.size(0), -1, 1)\n",
    "        x = F.relu(self.conv1(x))\n",
    "        x = F.relu(self.conv2(x))\n",
    "        x = x.view(x.size(0), -1)\n",
    "        x = self.fc(x)\n",
    "\n",
    "    \n",
    "        output = x\n",
    "        return output\n",
    "    \n",
    "fc = FC_ch()\n",
    "\n",
    "optimizer = torch.optim.Adam(fc.parameters(), lr=LR)\n",
    "# loss_func = nn.MSELoss()\n",
    "loss_func = nn.CrossEntropyLoss()\n",
    "\n",
    "data_size = 20000\n",
    "batch_size = 50\n",
    "\n",
    "for epoch in range(EPOCH):\n",
    "    random_indx = np.random.permutation(data_size)\n",
    "    for batch_i in range(data_size // batch_size):\n",
    "        indx = random_indx[batch_i * batch_size:(batch_i + 1) * batch_size]\n",
    "\n",
    "        b_x = train_x[indx, :]\n",
    "        b_y = train_y[indx]\n",
    "#         print(b_x.shape)\n",
    "#         print(b_y.shape)\n",
    "#         pdb.set_trace()\n",
    "\n",
    "        output = fc(b_x)\n",
    "    \n",
    "        loss = loss_func(output, b_y)\n",
    "\n",
    "        loss.backward()\n",
    "        optimizer.step()\n",
    "        optimizer.zero_grad()\n",
    "\n",
    "        if batch_i % 50 == 0:\n",
    "            test_output = fc(test_x)\n",
    "            pred_y = torch.max(test_output, 1)[1].data.squeeze()\n",
    "            # pred_y = torch.max(test_output, 1)[1].data.squeeze()\n",
    "            accuracy = torch.sum(pred_y == test_y).type(torch.FloatTensor) / test_y.size(0)\n",
    "            print('Epoch: ', epoch, '| train loss: %.4f' % loss.data.cpu().numpy(), '| test accuracy: %.3f' % accuracy)\n",
    "\n",
    "test_output = fc(test_x[:10])\n",
    "pred_y = torch.max(test_output, 1)[1].data.squeeze()  # move the computation in GPU\n",
    "\n",
    "print(pred_y, 'prediction number')\n",
    "print(test_y[:10], 'real number')"
   ]
  },
  {
   "cell_type": "code",
   "execution_count": 23,
   "metadata": {},
   "outputs": [
    {
     "name": "stdout",
     "output_type": "stream",
     "text": [
      "Epoch:  0 | train loss: 0.0442 | test accuracy: 0.943\n",
      "Epoch:  0 | train loss: 0.0276 | test accuracy: 0.943\n",
      "Epoch:  0 | train loss: 0.0674 | test accuracy: 0.952\n",
      "Epoch:  0 | train loss: 0.0514 | test accuracy: 0.955\n",
      "Epoch:  0 | train loss: 0.1107 | test accuracy: 0.946\n",
      "Epoch:  0 | train loss: 0.0821 | test accuracy: 0.955\n",
      "Epoch:  0 | train loss: 0.1476 | test accuracy: 0.952\n",
      "Epoch:  0 | train loss: 0.0435 | test accuracy: 0.953\n",
      "Epoch:  1 | train loss: 0.1348 | test accuracy: 0.946\n",
      "Epoch:  1 | train loss: 0.1592 | test accuracy: 0.952\n",
      "Epoch:  1 | train loss: 0.1801 | test accuracy: 0.957\n",
      "Epoch:  1 | train loss: 0.0111 | test accuracy: 0.953\n",
      "Epoch:  1 | train loss: 0.0644 | test accuracy: 0.952\n",
      "Epoch:  1 | train loss: 0.0433 | test accuracy: 0.953\n",
      "Epoch:  1 | train loss: 0.0717 | test accuracy: 0.960\n",
      "Epoch:  1 | train loss: 0.0620 | test accuracy: 0.956\n",
      "Epoch:  2 | train loss: 0.0305 | test accuracy: 0.961\n",
      "Epoch:  2 | train loss: 0.0777 | test accuracy: 0.965\n",
      "Epoch:  2 | train loss: 0.0368 | test accuracy: 0.959\n",
      "Epoch:  2 | train loss: 0.0894 | test accuracy: 0.961\n",
      "Epoch:  2 | train loss: 0.0507 | test accuracy: 0.952\n",
      "Epoch:  2 | train loss: 0.0182 | test accuracy: 0.956\n",
      "Epoch:  2 | train loss: 0.0168 | test accuracy: 0.950\n",
      "Epoch:  2 | train loss: 0.0064 | test accuracy: 0.955\n",
      "tensor([7, 2, 1, 0, 4, 1, 4, 9, 5, 9]) prediction number\n",
      "tensor([7, 2, 1, 0, 4, 1, 4, 9, 5, 9]) real number\n"
     ]
    }
   ],
   "source": [
    "EPOCH = 3\n",
    "LR = 0.0005\n",
    "for epoch in range(EPOCH):\n",
    "    random_indx = np.random.permutation(data_size)\n",
    "    for batch_i in range(data_size // batch_size):\n",
    "        indx = random_indx[batch_i * batch_size:(batch_i + 1) * batch_size]\n",
    "\n",
    "        b_x = train_x[indx, :]\n",
    "        b_y = train_y[indx]\n",
    "#         print(b_x.shape)\n",
    "#         print(b_y.shape)\n",
    "#         pdb.set_trace()\n",
    "\n",
    "        output = fc(b_x)\n",
    "    \n",
    "        loss = loss_func(output, b_y)\n",
    "\n",
    "        loss.backward()\n",
    "        optimizer.step()\n",
    "        optimizer.zero_grad()\n",
    "\n",
    "        if batch_i % 50 == 0:\n",
    "            test_output = fc(test_x)\n",
    "            pred_y = torch.max(test_output, 1)[1].data.squeeze()\n",
    "            # pred_y = torch.max(test_output, 1)[1].data.squeeze()\n",
    "            accuracy = torch.sum(pred_y == test_y).type(torch.FloatTensor) / test_y.size(0)\n",
    "            print('Epoch: ', epoch, '| train loss: %.4f' % loss.data.cpu().numpy(), '| test accuracy: %.3f' % accuracy)\n",
    "\n",
    "test_output = fc(test_x[:10])\n",
    "pred_y = torch.max(test_output, 1)[1].data.squeeze()  # move the computation in GPU\n",
    "\n",
    "print(pred_y, 'prediction number')\n",
    "print(test_y[:10], 'real number')"
   ]
  },
  {
   "cell_type": "code",
   "execution_count": 24,
   "metadata": {},
   "outputs": [],
   "source": [
    "test_output = fc(test_x[:9])"
   ]
  },
  {
   "cell_type": "code",
   "execution_count": 25,
   "metadata": {},
   "outputs": [
    {
     "data": {
      "text/plain": [
       "torch.Size([9, 10])"
      ]
     },
     "execution_count": 25,
     "metadata": {},
     "output_type": "execute_result"
    }
   ],
   "source": [
    "test_output.shape"
   ]
  },
  {
   "cell_type": "code",
   "execution_count": 26,
   "metadata": {},
   "outputs": [
    {
     "data": {
      "text/plain": [
       "tensor([ -7.2257,   3.0751,  15.5655,   1.2239, -13.8086,  -9.6548,  -5.9159,\n",
       "         -5.5812,  -0.2586, -16.8929], grad_fn=<SliceBackward>)"
      ]
     },
     "execution_count": 26,
     "metadata": {},
     "output_type": "execute_result"
    }
   ],
   "source": [
    "test_output[1,:]"
   ]
  },
  {
   "cell_type": "code",
   "execution_count": 27,
   "metadata": {},
   "outputs": [
    {
     "data": {
      "text/plain": [
       "tensor([7, 2, 1, 0, 4, 1, 4, 9, 5])"
      ]
     },
     "execution_count": 27,
     "metadata": {},
     "output_type": "execute_result"
    }
   ],
   "source": [
    "test_y[:9]"
   ]
  },
  {
   "cell_type": "code",
   "execution_count": 28,
   "metadata": {},
   "outputs": [
    {
     "data": {
      "text/plain": [
       "tensor([7, 2, 1, 0, 4, 1, 4, 9, 5])"
      ]
     },
     "execution_count": 28,
     "metadata": {},
     "output_type": "execute_result"
    }
   ],
   "source": [
    "torch.max(test_output, 1)[1].data.squeeze()"
   ]
  },
  {
   "cell_type": "code",
   "execution_count": 29,
   "metadata": {},
   "outputs": [
    {
     "name": "stdout",
     "output_type": "stream",
     "text": [
      "tensor(9)\n"
     ]
    }
   ],
   "source": [
    " print(torch.sum(torch.max(test_output, 1)[1]==test_y[:9]))"
   ]
  },
  {
   "cell_type": "code",
   "execution_count": 30,
   "metadata": {},
   "outputs": [
    {
     "data": {
      "text/plain": [
       "tensor([7, 2, 1, 0, 4, 1, 4, 9, 5])"
      ]
     },
     "execution_count": 30,
     "metadata": {},
     "output_type": "execute_result"
    }
   ],
   "source": [
    "torch.max(test_output, 1)[1]"
   ]
  },
  {
   "cell_type": "code",
   "execution_count": 31,
   "metadata": {},
   "outputs": [
    {
     "data": {
      "text/plain": [
       "tensor([7, 2, 1, 0, 4, 1, 4, 9, 5])"
      ]
     },
     "execution_count": 31,
     "metadata": {},
     "output_type": "execute_result"
    }
   ],
   "source": [
    "test_y[:9]"
   ]
  },
  {
   "cell_type": "code",
   "execution_count": 32,
   "metadata": {},
   "outputs": [
    {
     "data": {
      "text/plain": [
       "tensor([[ -4.5071,  -5.9536,   1.8112,   0.7863, -11.4025,  -5.3168, -15.0147,\n",
       "          13.2134,  -2.0886,  -2.0779],\n",
       "        [ -7.2257,   3.0751,  15.5655,   1.2239, -13.8086,  -9.6548,  -5.9159,\n",
       "          -5.5812,  -0.2586, -16.8929],\n",
       "        [ -6.7062,   8.0000,   0.5417,  -1.9543,  -4.0173,  -3.4562,  -1.6554,\n",
       "          -0.5594,  -0.1531,  -5.1171],\n",
       "        [ 11.4543,  -8.6482,   0.8471,  -3.7697,  -7.3575,  -1.7090,  -0.2732,\n",
       "          -2.3058,  -6.0865,  -2.0508],\n",
       "        [ -3.7847,  -6.7684,  -5.3555,  -6.0948,  11.7047,  -3.6038,  -4.2472,\n",
       "          -0.4344,  -4.5312,   3.5151],\n",
       "        [ -8.8911,  11.3220,  -0.4156,  -2.8214,  -3.4261,  -7.0033,  -5.1783,\n",
       "           1.6287,  -1.6511,  -4.6905],\n",
       "        [ -9.3329,  -4.9096,  -8.9195,  -5.7908,  10.5715,  -1.5958,  -6.1786,\n",
       "          -2.1789,   1.2211,   1.9752],\n",
       "        [ -6.2260,  -5.3597,  -4.9796,   1.1270,   2.0992,  -4.6781, -10.7574,\n",
       "          -1.4191,  -2.1942,  10.0918],\n",
       "        [ -7.1013,  -5.0907,  -3.3721,  -5.2604,  -1.6137,   6.3339,   4.4686,\n",
       "         -11.4480,   0.5096,  -2.1272]], grad_fn=<AddmmBackward>)"
      ]
     },
     "execution_count": 32,
     "metadata": {},
     "output_type": "execute_result"
    }
   ],
   "source": [
    "test_output"
   ]
  },
  {
   "cell_type": "code",
   "execution_count": 33,
   "metadata": {},
   "outputs": [
    {
     "name": "stdout",
     "output_type": "stream",
     "text": [
      "tensor(7) prediction number\n",
      "tensor([7]) real number\n"
     ]
    }
   ],
   "source": [
    "test_output = fc(test_x[:1])\n",
    "pred_y = torch.max(test_output, 1)[1].data.squeeze()  # move the computation in GPU\n",
    "\n",
    "print(pred_y, 'prediction number')\n",
    "print(test_y[:1], 'real number')"
   ]
  },
  {
   "cell_type": "code",
   "execution_count": 34,
   "metadata": {},
   "outputs": [
    {
     "data": {
      "text/plain": [
       "tensor([[ -4.5071,  -5.9536,   1.8111,   0.7863, -11.4025,  -5.3168, -15.0147,\n",
       "          13.2134,  -2.0886,  -2.0779]], grad_fn=<AddmmBackward>)"
      ]
     },
     "execution_count": 34,
     "metadata": {},
     "output_type": "execute_result"
    }
   ],
   "source": [
    "test_output"
   ]
  },
  {
   "cell_type": "code",
   "execution_count": 35,
   "metadata": {},
   "outputs": [
    {
     "data": {
      "text/plain": [
       "torch.Size([1, 1, 28, 28])"
      ]
     },
     "execution_count": 35,
     "metadata": {},
     "output_type": "execute_result"
    }
   ],
   "source": [
    "test_x[:1].shape"
   ]
  },
  {
   "cell_type": "code",
   "execution_count": 36,
   "metadata": {},
   "outputs": [
    {
     "data": {
      "text/plain": [
       "<matplotlib.image.AxesImage at 0x7fe1c0c386d0>"
      ]
     },
     "execution_count": 36,
     "metadata": {},
     "output_type": "execute_result"
    },
    {
     "data": {
      "image/png": "[encoded data removed]",
      "text/plain": [
       "<Figure size 640x480 with 1 Axes>"
      ]
     },
     "metadata": {},
     "output_type": "display_data"
    }
   ],
   "source": [
    "plt.imshow(test_x[:1].numpy().squeeze(), 'gray')"
   ]
  }
 ],
 "metadata": {
  "kernelspec": {
   "display_name": "Python [conda env:pytorch]",
   "language": "python",
   "name": "pytorch"
  },
  "language_info": {
   "codemirror_mode": {
    "name": "ipython",
    "version": 3
   },
   "file_extension": ".py",
   "mimetype": "text/x-python",
   "name": "python",
   "nbconvert_exporter": "python",
   "pygments_lexer": "ipython3",
   "version": "3.7.10"
  }
 },
 "nbformat": 4,
 "nbformat_minor": 4
}
