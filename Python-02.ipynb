{
 "cells": [
  {
   "cell_type": "code",
   "execution_count": 1,
   "metadata": {},
   "outputs": [
    {
     "name": "stdout",
     "output_type": "stream",
     "text": [
      "0.6\n"
     ]
    }
   ],
   "source": [
    "import math\n",
    "\n",
    "a = 0.36\n",
    "b = math.sqrt(a)\n",
    "print(b)"
   ]
  },
  {
   "cell_type": "code",
   "execution_count": 5,
   "metadata": {},
   "outputs": [
    {
     "name": "stdout",
     "output_type": "stream",
     "text": [
      "line 16: mode: byte\n"
     ]
    },
    {
     "data": {
      "text/plain": [
       "(4, 'H', 'C:\\\\Users\\\\gyl\\\\Desktop\\\\2022计算机视觉-第2周\\\\002.png')"
      ]
     },
     "execution_count": 5,
     "metadata": {},
     "output_type": "execute_result"
    }
   ],
   "source": [
    "from MyQR import myqr\n",
    "\n",
    "\"\"\"Generate a QR code\"\"\"\n",
    "# myqr.run(words='https://villa.jianzhang.tech/',\n",
    "#          save_name='001.png',\n",
    "#          )\n",
    "\n",
    "\"\"\"Generate a QR code with a background picture\"\"\"\n",
    "myqr.run(words='https://villa.jianzhang.tech/',\n",
    "         picture=r'duola.jpg',\n",
    "         colorized=True,  # True：Color，False：Gray\n",
    "         save_name='002.png')"
   ]
  },
  {
   "cell_type": "code",
   "execution_count": 6,
   "metadata": {},
   "outputs": [],
   "source": [
    "# Functions"
   ]
  },
  {
   "cell_type": "code",
   "execution_count": 7,
   "metadata": {},
   "outputs": [],
   "source": [
    "def my_function():\n",
    "    print(\"Hello from a function\")"
   ]
  },
  {
   "cell_type": "code",
   "execution_count": 8,
   "metadata": {},
   "outputs": [
    {
     "name": "stdout",
     "output_type": "stream",
     "text": [
      "Hello from a function\n"
     ]
    }
   ],
   "source": [
    "my_function()"
   ]
  },
  {
   "cell_type": "code",
   "execution_count": 9,
   "metadata": {},
   "outputs": [
    {
     "name": "stdout",
     "output_type": "stream",
     "text": [
      "Emil Refsnes\n",
      "Tobias Refsnes\n",
      "Linus Refsnes\n"
     ]
    }
   ],
   "source": [
    "def my_function(fname):\n",
    "    print(fname + \" Refsnes\")\n",
    "\n",
    "my_function(\"Emil\")\n",
    "my_function(\"Tobias\")\n",
    "my_function(\"Linus\")"
   ]
  },
  {
   "cell_type": "code",
   "execution_count": 10,
   "metadata": {},
   "outputs": [],
   "source": [
    "def add(a,b):\n",
    "    return a+b"
   ]
  },
  {
   "cell_type": "code",
   "execution_count": 11,
   "metadata": {},
   "outputs": [],
   "source": [
    "def lessthan(a,b):\n",
    "    return a<=b"
   ]
  },
  {
   "cell_type": "code",
   "execution_count": 12,
   "metadata": {},
   "outputs": [
    {
     "name": "stdout",
     "output_type": "stream",
     "text": [
      "9\n"
     ]
    }
   ],
   "source": [
    "print(add(5,4))"
   ]
  },
  {
   "cell_type": "code",
   "execution_count": 13,
   "metadata": {},
   "outputs": [
    {
     "name": "stdout",
     "output_type": "stream",
     "text": [
      "False\n"
     ]
    }
   ],
   "source": [
    "print(lessthan(5,4))"
   ]
  },
  {
   "cell_type": "code",
   "execution_count": 14,
   "metadata": {},
   "outputs": [
    {
     "name": "stdout",
     "output_type": "stream",
     "text": [
      "['a', 'b', 'c']\n",
      "[1, 2, 3, 4]\n"
     ]
    }
   ],
   "source": [
    "# 01 Lists\n",
    "\n",
    "# Example of a list with strings\n",
    "letters = [\"a\", \"b\", \"c\"]\n",
    "print(letters)\n",
    "\n",
    "# Exemple of a list with interger\n",
    "numbers = [1, 2, 3, 4]\n",
    "print(numbers)"
   ]
  },
  {
   "cell_type": "code",
   "execution_count": 15,
   "metadata": {},
   "outputs": [
    {
     "name": "stdout",
     "output_type": "stream",
     "text": [
      "[[0, 1], [2, 3]]\n",
      "[0, 0, 0, 0, 0]\n"
     ]
    }
   ],
   "source": [
    "# Each item in this list is a list it self.\n",
    "matrix = [[0, 1], [2, 3]]\n",
    "print(matrix)\n",
    "\n",
    "# Example how to create list\n",
    "zeros = [0] * 5\n",
    "print(zeros)"
   ]
  },
  {
   "cell_type": "code",
   "execution_count": 16,
   "metadata": {},
   "outputs": [
    {
     "name": "stdout",
     "output_type": "stream",
     "text": [
      "[0, 0, 0, 0, 0, 'a', 'b', 'c']\n",
      "[5, 6, 7, 8, 9, 10, 11, 12, 13, 14, 15, 16, 17, 18, 19, 20]\n"
     ]
    }
   ],
   "source": [
    "# Concatenate lists\n",
    "combined = zeros + letters\n",
    "print(combined)\n",
    "\n",
    "# Creat a list of a sequence of numbers, in this example from 5 to 20\n",
    "list_range = list(range(5, 21))\n",
    "print(list_range)"
   ]
  },
  {
   "cell_type": "code",
   "execution_count": 17,
   "metadata": {},
   "outputs": [
    {
     "name": "stdout",
     "output_type": "stream",
     "text": [
      "['P', 'y', 't', 'h', 'o', 'n']\n",
      "6\n"
     ]
    }
   ],
   "source": [
    "# Convert a string to a list\n",
    "string_list = list(\"Python\")\n",
    "print(string_list)\n",
    "\n",
    "# Check the number of item in a list\n",
    "item_in_string_list = len(string_list)\n",
    "print(item_in_string_list)"
   ]
  },
  {
   "cell_type": "code",
   "execution_count": 18,
   "metadata": {},
   "outputs": [
    {
     "name": "stdout",
     "output_type": "stream",
     "text": [
      "['a', 'b', 'c', 'd']\n",
      "a\n",
      "['A', 'b', 'c', 'd']\n",
      "[0, 1, 2, 3, 4, 5, 6, 7, 8, 9, 10, 11, 12, 13, 14, 15, 16, 17, 18, 19]\n"
     ]
    }
   ],
   "source": [
    "# 02 Accessing Items\n",
    "\n",
    "#  a   b   c   d - example list\n",
    "#  0   1   2   3 - position of each item in the list\n",
    "# -4  -3  -2  -1 - or position of the item ins reverse\n",
    "letters = [\"a\", \"b\", \"c\", \"d\"]\n",
    "print(letters)\n",
    "\n",
    "first_item = letters[0]  # to access the item number 0 in the list\n",
    "print(first_item)\n",
    "\n",
    "letters[0] = \"A\"  # to change the first item in the list\n",
    "\n",
    "print(letters)\n",
    "\n",
    "numbers = list(range(20))\n",
    "print(numbers)"
   ]
  },
  {
   "cell_type": "code",
   "execution_count": 19,
   "metadata": {},
   "outputs": [
    {
     "name": "stdout",
     "output_type": "stream",
     "text": [
      "[2, 4, 6, 8, 10, 12, 14]\n",
      "[19, 18, 17, 16, 15, 14, 13, 12, 11, 10, 9, 8, 7, 6, 5, 4, 3, 2, 1, 0]\n"
     ]
    }
   ],
   "source": [
    "# Like string this is to slice a list [first item : last item: step] all arguments are optinal\n",
    "numbers_slice = numbers[2:15:2]\n",
    "print(numbers_slice)\n",
    "\n",
    "# with this we are able to reverse the order of the list\n",
    "numbers_revers = numbers[::-1]\n",
    "print(numbers_revers)"
   ]
  },
  {
   "cell_type": "code",
   "execution_count": 20,
   "metadata": {},
   "outputs": [
    {
     "name": "stdout",
     "output_type": "stream",
     "text": [
      "[1, 2, 3]\n"
     ]
    }
   ],
   "source": [
    "# 03 List Unpacking\n",
    "\n",
    "numbers = [1, 2, 3]\n",
    "print(numbers)\n",
    "\n",
    "# Assigning an item of a list to a variable\n",
    "# first = numbers[0]\n",
    "# second = numbers[1]\n",
    "# third = numbers[3]"
   ]
  },
  {
   "cell_type": "code",
   "execution_count": 21,
   "metadata": {},
   "outputs": [
    {
     "name": "stdout",
     "output_type": "stream",
     "text": [
      "1\n",
      "2\n",
      "3\n"
     ]
    }
   ],
   "source": [
    "# The best way to this is by list unpacking\n",
    "first, second, third = numbers\n",
    "print(first)\n",
    "print(second)\n",
    "print(third)"
   ]
  },
  {
   "cell_type": "code",
   "execution_count": 22,
   "metadata": {},
   "outputs": [
    {
     "name": "stdout",
     "output_type": "stream",
     "text": [
      "[0, 1, 2, 3, 4, 5, 6, 7, 8, 9, 10, 11, 12, 13, 14, 15, 16, 17, 18, 19]\n",
      "0\n",
      "1\n",
      "[2, 3, 4, 5, 6, 7, 8, 9, 10, 11, 12, 13, 14, 15, 16, 17, 18, 19]\n"
     ]
    }
   ],
   "source": [
    "# If we have alist with a lot of item and we just want to unpack the first two item and pack the rest of item in another list\n",
    "numbers_0_19 = [0, 1, 2, 3, 4, 5, 6, 7, 8, 9,\n",
    "                10, 11, 12, 13, 14, 15, 16, 17, 18, 19]\n",
    "print(numbers_0_19)\n",
    "first, second, *others = numbers_0_19\n",
    "print(first)\n",
    "print(second)\n",
    "print(others)"
   ]
  },
  {
   "cell_type": "code",
   "execution_count": 23,
   "metadata": {},
   "outputs": [
    {
     "name": "stdout",
     "output_type": "stream",
     "text": [
      "0\n",
      "[1, 2, 3, 4, 5, 6, 7, 8, 9, 10, 11, 12, 13, 14, 15, 16, 17, 18]\n",
      "19\n"
     ]
    }
   ],
   "source": [
    "# For example if we want the unpack the first and the the last item\n",
    "first, *others, last = numbers_0_19\n",
    "print(first)\n",
    "print(others)\n",
    "print(last)"
   ]
  },
  {
   "cell_type": "code",
   "execution_count": 24,
   "metadata": {},
   "outputs": [
    {
     "name": "stdout",
     "output_type": "stream",
     "text": [
      "a\n",
      "b\n",
      "c\n",
      "d\n"
     ]
    }
   ],
   "source": [
    "# 04 Looping over Lists\n",
    "\n",
    "letters = [\"a\", \"b\", \"c\", \"d\"]\n",
    "\n",
    "for letter in letters:\n",
    "    print(letter)\n"
   ]
  },
  {
   "cell_type": "code",
   "execution_count": 25,
   "metadata": {},
   "outputs": [
    {
     "name": "stdout",
     "output_type": "stream",
     "text": [
      "(0, 'a')\n",
      "(1, 'b')\n",
      "(2, 'c')\n",
      "(3, 'd')\n"
     ]
    }
   ],
   "source": [
    "# to get the index of each item use the built in function enumerate()\n",
    "for letter in enumerate(letters):\n",
    "    print(letter)"
   ]
  },
  {
   "cell_type": "code",
   "execution_count": 26,
   "metadata": {},
   "outputs": [
    {
     "name": "stdout",
     "output_type": "stream",
     "text": [
      "0 a\n",
      "1 b\n",
      "2 c\n",
      "3 d\n"
     ]
    }
   ],
   "source": [
    "for index, letter in enumerate(letters):\n",
    "    print(index, letter)"
   ]
  },
  {
   "cell_type": "code",
   "execution_count": 27,
   "metadata": {},
   "outputs": [
    {
     "name": "stdout",
     "output_type": "stream",
     "text": [
      "['a', 'b', 'c', 'd', 'e', 'f', 'g']\n",
      "['a', 'b', 'c', 'd', 'e', 'f', 'g', 'h']\n"
     ]
    }
   ],
   "source": [
    "# 05 Adding or Removing Items\n",
    "\n",
    "letters = [\"a\", \"b\", \"c\", \"d\", \"e\", \"f\", \"g\"]\n",
    "print(letters)\n",
    "\n",
    "# Add an item to the end of the list\n",
    "letters.append(\"h\")\n",
    "print(letters)"
   ]
  },
  {
   "cell_type": "code",
   "execution_count": 28,
   "metadata": {},
   "outputs": [
    {
     "name": "stdout",
     "output_type": "stream",
     "text": [
      "['a', 'b', '-', 'c', 'd', 'e', 'f', 'g', 'h']\n"
     ]
    }
   ],
   "source": [
    "letters.insert(2, \"-\")\n",
    "print(letters)"
   ]
  },
  {
   "cell_type": "code",
   "execution_count": 29,
   "metadata": {},
   "outputs": [
    {
     "name": "stdout",
     "output_type": "stream",
     "text": [
      "['a', 'b', '-', 'c', 'd', 'e', 'f', 'g']\n"
     ]
    }
   ],
   "source": [
    "# Remove an item of a list use the method pop()\n",
    "# with no argument it removes the last item\n",
    "letters.pop()\n",
    "print(letters)"
   ]
  },
  {
   "cell_type": "code",
   "execution_count": 30,
   "metadata": {},
   "outputs": [
    {
     "name": "stdout",
     "output_type": "stream",
     "text": [
      "['a', 'b', 'c', 'd', 'e', 'f', 'g']\n"
     ]
    }
   ],
   "source": [
    "# with a argument it removes the item with that index\n",
    "letters.pop(2)\n",
    "print(letters)"
   ]
  },
  {
   "cell_type": "code",
   "execution_count": 31,
   "metadata": {},
   "outputs": [
    {
     "name": "stdout",
     "output_type": "stream",
     "text": [
      "['a', 'b', 'd', 'e', 'f', 'g']\n"
     ]
    }
   ],
   "source": [
    "# Remove an item for a list using the method remove()\n",
    "# specify the item\n",
    "letters.remove(\"c\")  # this will remove the first \"c\" in the list\n",
    "print(letters)"
   ]
  },
  {
   "cell_type": "code",
   "execution_count": 32,
   "metadata": {},
   "outputs": [],
   "source": [
    "letters.append(\"e\")"
   ]
  },
  {
   "cell_type": "code",
   "execution_count": 33,
   "metadata": {},
   "outputs": [
    {
     "name": "stdout",
     "output_type": "stream",
     "text": [
      "['a', 'b', 'd', 'e', 'f', 'g', 'e']\n"
     ]
    }
   ],
   "source": [
    "print(letters)"
   ]
  },
  {
   "cell_type": "code",
   "execution_count": 34,
   "metadata": {},
   "outputs": [
    {
     "name": "stdout",
     "output_type": "stream",
     "text": [
      "['a', 'b', 'd', 'f', 'g', 'e']\n"
     ]
    }
   ],
   "source": [
    "letters.remove(\"e\")  # this will remove the first \"c\" in the list\n",
    "print(letters)"
   ]
  },
  {
   "cell_type": "code",
   "execution_count": 35,
   "metadata": {},
   "outputs": [
    {
     "name": "stdout",
     "output_type": "stream",
     "text": [
      "['d', 'f', 'g', 'e']\n"
     ]
    }
   ],
   "source": [
    "# Remove item using the del statement\n",
    "# with this statement we can remove one item or a range of items by the index\n",
    "del letters[0:2]\n",
    "print(letters)"
   ]
  },
  {
   "cell_type": "code",
   "execution_count": 36,
   "metadata": {},
   "outputs": [
    {
     "name": "stdout",
     "output_type": "stream",
     "text": [
      "[]\n"
     ]
    }
   ],
   "source": [
    "# to clear the list and delete all the items\n",
    "letters.clear()\n",
    "print(letters)"
   ]
  },
  {
   "cell_type": "code",
   "execution_count": 37,
   "metadata": {},
   "outputs": [
    {
     "name": "stdout",
     "output_type": "stream",
     "text": [
      "3\n"
     ]
    }
   ],
   "source": [
    "# 06 Finding Items\n",
    "\n",
    "letters = [\"a\", \"b\", \"c\", \"d\", \"e\", \"f\", \"g\"]\n",
    "\n",
    "print(letters.index(\"d\"))"
   ]
  },
  {
   "cell_type": "code",
   "execution_count": 38,
   "metadata": {},
   "outputs": [
    {
     "ename": "ValueError",
     "evalue": "'h' is not in list",
     "output_type": "error",
     "traceback": [
      "\u001b[1;31m---------------------------------------------------------------------------\u001b[0m",
      "\u001b[1;31mValueError\u001b[0m                                Traceback (most recent call last)",
      "\u001b[1;32m<ipython-input-38-d99afcb474f0>\u001b[0m in \u001b[0;36m<module>\u001b[1;34m\u001b[0m\n\u001b[1;32m----> 1\u001b[1;33m \u001b[0mprint\u001b[0m\u001b[1;33m(\u001b[0m\u001b[0mletters\u001b[0m\u001b[1;33m.\u001b[0m\u001b[0mindex\u001b[0m\u001b[1;33m(\u001b[0m\u001b[1;34m\"h\"\u001b[0m\u001b[1;33m)\u001b[0m\u001b[1;33m)\u001b[0m\u001b[1;33m\u001b[0m\u001b[1;33m\u001b[0m\u001b[0m\n\u001b[0m",
      "\u001b[1;31mValueError\u001b[0m: 'h' is not in list"
     ]
    }
   ],
   "source": [
    "print(letters.index(\"h\"))"
   ]
  },
  {
   "cell_type": "code",
   "execution_count": 39,
   "metadata": {},
   "outputs": [
    {
     "name": "stdout",
     "output_type": "stream",
     "text": [
      "3\n",
      "0\n"
     ]
    }
   ],
   "source": [
    "# Example 1\n",
    "if \"d\" in letters:\n",
    "    print(letters.index(\"d\"))\n",
    "\n",
    "# Exemple 2\n",
    "print(letters.count(\"m\"))"
   ]
  },
  {
   "cell_type": "code",
   "execution_count": 40,
   "metadata": {},
   "outputs": [
    {
     "name": "stdout",
     "output_type": "stream",
     "text": [
      "[5, 51, 2, 15, 6]\n",
      "[2, 5, 6, 15, 51]\n",
      "[51, 15, 6, 5, 2]\n"
     ]
    }
   ],
   "source": [
    "# 07 Sorting Lists\n",
    "\n",
    "numbers = [5, 51, 2, 15, 6]\n",
    "print(numbers)\n",
    "\n",
    "# sort numbers with the sort() method\n",
    "numbers.sort()\n",
    "print(numbers)\n",
    "\n",
    "numbers.sort(reverse=True)\n",
    "print(numbers)\n"
   ]
  },
  {
   "cell_type": "code",
   "execution_count": 41,
   "metadata": {},
   "outputs": [
    {
     "name": "stdout",
     "output_type": "stream",
     "text": [
      "[5, 51, 2, 15, 6]\n",
      "[2, 5, 6, 15, 51]\n",
      "[51, 15, 6, 5, 2]\n",
      "[5, 51, 2, 15, 6]\n"
     ]
    }
   ],
   "source": [
    "numbers = [5, 51, 2, 15, 6]\n",
    "print(numbers)\n",
    "# The sort function can be used an it will creat a new list\n",
    "print(sorted(numbers))\n",
    "print(sorted(numbers, reverse=True))\n",
    "print(numbers)"
   ]
  },
  {
   "cell_type": "code",
   "execution_count": 42,
   "metadata": {},
   "outputs": [
    {
     "name": "stdout",
     "output_type": "stream",
     "text": [
      "[(1, 10), (2, 20), (3, 30), (4, 40)]\n",
      "[('a', 10, 1), ('b', 20, 2), ('c', 30, 3), ('d', 40, 4)]\n"
     ]
    }
   ],
   "source": [
    "# Zip Function\n",
    "list_1 = [1, 2, 3, 4]\n",
    "list_2 = [10, 20, 30, 40, 50, 60]\n",
    "\n",
    "combined_list = zip(list_1, list_2)\n",
    "print(list(combined_list))\n",
    "\n",
    "list_3 = list(zip(\"abcd\", list_2, list_1))\n",
    "print(list_3)"
   ]
  },
  {
   "cell_type": "code",
   "execution_count": 43,
   "metadata": {},
   "outputs": [
    {
     "name": "stdout",
     "output_type": "stream",
     "text": [
      "x: 10\n",
      "y: 20\n",
      "x: 20\n",
      "y: 10\n"
     ]
    }
   ],
   "source": [
    "# Swapping Variables\n",
    "\n",
    "# To swap two variables, we can use a third variable to backup the frist variable\n",
    "\n",
    "x = 10\n",
    "y = 20\n",
    "\n",
    "# z = x\n",
    "# x = y\n",
    "# y = z\n",
    "\n",
    "print(f\"x: {x}\\ny: {y}\")\n",
    "\n",
    "# In python we can swap the value of two variables using only one line of code\n",
    "x, y = y, x\n",
    "\n",
    "print(f\"x: {x}\\ny: {y}\")"
   ]
  },
  {
   "cell_type": "code",
   "execution_count": 44,
   "metadata": {},
   "outputs": [
    {
     "name": "stdout",
     "output_type": "stream",
     "text": [
      "{1, 2, 4, 5}\n",
      "{1, 2, 4, 5, 6}\n",
      "{1, 2, 4, 5}\n",
      "4\n"
     ]
    }
   ],
   "source": [
    "# Sets\n",
    "\n",
    "numbers = [1, 1, 2, 5, 4, 5, 1, 2, 2, 1, 4, 5, 5]\n",
    "uniques = set(numbers)\n",
    "print(uniques)\n",
    "\n",
    "# We can use the same methods as lists\n",
    "uniques.add(6)\n",
    "print(uniques)\n",
    "\n",
    "uniques.remove(6)\n",
    "print(uniques)\n",
    "\n",
    "print(len(uniques))"
   ]
  },
  {
   "cell_type": "code",
   "execution_count": 45,
   "metadata": {},
   "outputs": [
    {
     "name": "stdout",
     "output_type": "stream",
     "text": [
      "set()\n",
      "{'b'}\n"
     ]
    }
   ],
   "source": [
    "a = set()\n",
    "print(a)\n",
    "a.add('b')\n",
    "print(a)"
   ]
  },
  {
   "cell_type": "code",
   "execution_count": 46,
   "metadata": {},
   "outputs": [
    {
     "name": "stdout",
     "output_type": "stream",
     "text": [
      "('apple', 'banana', 'cherry')\n"
     ]
    }
   ],
   "source": [
    "# Tuple\n",
    "\n",
    "thistuple = (\"apple\", \"banana\", \"cherry\")\n",
    "print(thistuple)"
   ]
  },
  {
   "cell_type": "code",
   "execution_count": 47,
   "metadata": {},
   "outputs": [
    {
     "name": "stdout",
     "output_type": "stream",
     "text": [
      "apple\n"
     ]
    }
   ],
   "source": [
    "print(thistuple[0])"
   ]
  },
  {
   "cell_type": "code",
   "execution_count": 48,
   "metadata": {},
   "outputs": [
    {
     "name": "stdout",
     "output_type": "stream",
     "text": [
      "('apple', 'banana')\n"
     ]
    }
   ],
   "source": [
    "print(thistuple[0:2])"
   ]
  },
  {
   "cell_type": "code",
   "execution_count": 49,
   "metadata": {},
   "outputs": [
    {
     "ename": "TypeError",
     "evalue": "'tuple' object does not support item assignment",
     "output_type": "error",
     "traceback": [
      "\u001b[1;31m---------------------------------------------------------------------------\u001b[0m",
      "\u001b[1;31mTypeError\u001b[0m                                 Traceback (most recent call last)",
      "\u001b[1;32m<ipython-input-49-35062adb521d>\u001b[0m in \u001b[0;36m<module>\u001b[1;34m\u001b[0m\n\u001b[1;32m----> 1\u001b[1;33m \u001b[0mthistuple\u001b[0m\u001b[1;33m[\u001b[0m\u001b[1;36m0\u001b[0m\u001b[1;33m]\u001b[0m \u001b[1;33m=\u001b[0m \u001b[1;34m'orange'\u001b[0m\u001b[1;33m\u001b[0m\u001b[1;33m\u001b[0m\u001b[0m\n\u001b[0m",
      "\u001b[1;31mTypeError\u001b[0m: 'tuple' object does not support item assignment"
     ]
    }
   ],
   "source": [
    "thistuple[0] = 'orange'"
   ]
  },
  {
   "cell_type": "code",
   "execution_count": 50,
   "metadata": {},
   "outputs": [
    {
     "name": "stdout",
     "output_type": "stream",
     "text": [
      "[('Product1', 15), ('Product2', 50), ('Product3', 5)]\n",
      "[15, 50, 5]\n"
     ]
    }
   ],
   "source": [
    "# List Comprehensions\n",
    "\n",
    "products = [\n",
    "    (\"Product1\", 15),\n",
    "    (\"Product2\", 50),\n",
    "    (\"Product3\", 5)\n",
    "]\n",
    "print(products)\n",
    "\n",
    "prices = [item[1] for item in products] \n",
    "print(prices)"
   ]
  },
  {
   "cell_type": "code",
   "execution_count": 51,
   "metadata": {},
   "outputs": [
    {
     "name": "stdout",
     "output_type": "stream",
     "text": [
      "[('Product1', 15), ('Product2', 50)]\n"
     ]
    }
   ],
   "source": [
    "filtered_price = [item for item in products if item[1] >= 10]\n",
    "print(filtered_price)"
   ]
  },
  {
   "cell_type": "code",
   "execution_count": 52,
   "metadata": {},
   "outputs": [
    {
     "name": "stdout",
     "output_type": "stream",
     "text": [
      "{'x': 1, 'y': 2}\n",
      "{'x': 1, 'y': 2}\n"
     ]
    }
   ],
   "source": [
    "# Dictionaries\n",
    "\n",
    "point = {\"x\": 1, \"y\": 2}\n",
    "print(point)\n",
    "point = dict(x=1, y=2)\n",
    "print(point)"
   ]
  },
  {
   "cell_type": "code",
   "execution_count": 53,
   "metadata": {},
   "outputs": [
    {
     "name": "stdout",
     "output_type": "stream",
     "text": [
      "1\n"
     ]
    }
   ],
   "source": [
    "print(point[\"x\"]) "
   ]
  },
  {
   "cell_type": "code",
   "execution_count": 54,
   "metadata": {},
   "outputs": [
    {
     "name": "stdout",
     "output_type": "stream",
     "text": [
      "{'x': 1, 'y': 2, 'z': 3}\n"
     ]
    }
   ],
   "source": [
    "point[\"z\"] = 3\n",
    "print(point)"
   ]
  },
  {
   "cell_type": "code",
   "execution_count": 55,
   "metadata": {},
   "outputs": [
    {
     "name": "stdout",
     "output_type": "stream",
     "text": [
      "no\n"
     ]
    }
   ],
   "source": [
    "if \"a\" in point:\n",
    "    print(\"yes\")\n",
    "else:\n",
    "    print(\"no\")"
   ]
  },
  {
   "cell_type": "code",
   "execution_count": 56,
   "metadata": {},
   "outputs": [
    {
     "name": "stdout",
     "output_type": "stream",
     "text": [
      "None\n"
     ]
    }
   ],
   "source": [
    "print(point.get(\"a\"))"
   ]
  },
  {
   "cell_type": "code",
   "execution_count": 57,
   "metadata": {},
   "outputs": [
    {
     "name": "stdout",
     "output_type": "stream",
     "text": [
      "{'y': 2, 'z': 3}\n"
     ]
    }
   ],
   "source": [
    "del point[\"x\"] # to delete the key x\n",
    "print(point)"
   ]
  },
  {
   "cell_type": "code",
   "execution_count": 58,
   "metadata": {},
   "outputs": [
    {
     "name": "stdout",
     "output_type": "stream",
     "text": [
      "y\n",
      "z\n"
     ]
    }
   ],
   "source": [
    "for key in point: # Loop over dictoanaries, in here we will print the dictionary keys\n",
    "    print(key)"
   ]
  },
  {
   "cell_type": "code",
   "execution_count": 59,
   "metadata": {},
   "outputs": [
    {
     "name": "stdout",
     "output_type": "stream",
     "text": [
      "y 2\n",
      "z 3\n"
     ]
    }
   ],
   "source": [
    "for key in point: # Loop over \n",
    "    print(key, point[key])"
   ]
  },
  {
   "cell_type": "code",
   "execution_count": 60,
   "metadata": {},
   "outputs": [
    {
     "name": "stdout",
     "output_type": "stream",
     "text": [
      "('y', 2)\n",
      "('z', 3)\n"
     ]
    }
   ],
   "source": [
    "for index in point.items(): \n",
    "    print(index)"
   ]
  },
  {
   "cell_type": "code",
   "execution_count": 61,
   "metadata": {},
   "outputs": [
    {
     "name": "stdout",
     "output_type": "stream",
     "text": [
      "y 2\n",
      "z 3\n"
     ]
    }
   ],
   "source": [
    "for key, value in point.items():\n",
    "    print(key, value)"
   ]
  },
  {
   "cell_type": "code",
   "execution_count": 62,
   "metadata": {},
   "outputs": [
    {
     "name": "stdout",
     "output_type": "stream",
     "text": [
      "dict_items([('y', 2), ('z', 3)])\n",
      "[('y', 2), ('z', 3)]\n",
      "(2, 3)\n"
     ]
    }
   ],
   "source": [
    "print(point.items())\n",
    "print(list(point.items()))\n",
    "print(tuple(point.values()))"
   ]
  },
  {
   "cell_type": "code",
   "execution_count": 63,
   "metadata": {},
   "outputs": [
    {
     "name": "stdout",
     "output_type": "stream",
     "text": [
      "{0: 0, 1: 2, 2: 4, 3: 6, 4: 8}\n"
     ]
    }
   ],
   "source": [
    "# Dictionary Comprehensions\n",
    "valores = {x: x * 2 for x in range(5)}\n",
    "print(valores)"
   ]
  },
  {
   "cell_type": "code",
   "execution_count": 64,
   "metadata": {},
   "outputs": [
    {
     "ename": "NameError",
     "evalue": "name 'values' is not defined",
     "output_type": "error",
     "traceback": [
      "\u001b[1;31m---------------------------------------------------------------------------\u001b[0m",
      "\u001b[1;31mNameError\u001b[0m                                 Traceback (most recent call last)",
      "\u001b[1;32m<ipython-input-64-f2be9f699a07>\u001b[0m in \u001b[0;36m<module>\u001b[1;34m\u001b[0m\n\u001b[0;32m      1\u001b[0m \u001b[1;32mfrom\u001b[0m \u001b[0msys\u001b[0m \u001b[1;32mimport\u001b[0m \u001b[0mgetsizeof\u001b[0m \u001b[1;31m# import getsizeof function\u001b[0m\u001b[1;33m\u001b[0m\u001b[1;33m\u001b[0m\u001b[0m\n\u001b[1;32m----> 2\u001b[1;33m \u001b[0mprint\u001b[0m\u001b[1;33m(\u001b[0m\u001b[0mgetsizeof\u001b[0m\u001b[1;33m(\u001b[0m\u001b[0mvalues\u001b[0m\u001b[1;33m)\u001b[0m\u001b[1;33m)\u001b[0m \u001b[1;31m# show the bites of memory\u001b[0m\u001b[1;33m\u001b[0m\u001b[1;33m\u001b[0m\u001b[0m\n\u001b[0m",
      "\u001b[1;31mNameError\u001b[0m: name 'values' is not defined"
     ]
    }
   ],
   "source": [
    "from sys import getsizeof # import getsizeof function\n",
    "print(getsizeof(values)) # show the bites of memory"
   ]
  },
  {
   "cell_type": "code",
   "execution_count": 65,
   "metadata": {},
   "outputs": [
    {
     "name": "stdout",
     "output_type": "stream",
     "text": [
      "28\n"
     ]
    }
   ],
   "source": [
    "a = 3\n",
    "print(getsizeof(a))"
   ]
  },
  {
   "cell_type": "code",
   "execution_count": 66,
   "metadata": {},
   "outputs": [
    {
     "name": "stdout",
     "output_type": "stream",
     "text": [
      "[1, 2, 3]\n",
      "1 2 3\n"
     ]
    }
   ],
   "source": [
    "# Unpacking Operator\n",
    "\n",
    "numbers = [1, 2, 3]\n",
    "print(numbers)\n",
    "print(*numbers) # with * operator we are unpacking the list and passing them as single elements to the print function"
   ]
  },
  {
   "cell_type": "code",
   "execution_count": 67,
   "metadata": {},
   "outputs": [
    {
     "name": "stdout",
     "output_type": "stream",
     "text": [
      "1 2 3\n"
     ]
    }
   ],
   "source": [
    "print((*numbers))"
   ]
  },
  {
   "cell_type": "code",
   "execution_count": 68,
   "metadata": {},
   "outputs": [
    {
     "name": "stdout",
     "output_type": "stream",
     "text": [
      "[0, 1, 2, 3, 4, 5, 6, 7, 8, 9]\n",
      "[0, 1, 2, 3, 4, 5, 6, 7, 8, 9]\n"
     ]
    }
   ],
   "source": [
    "values = list((range(10)))\n",
    "print(values)\n",
    "values  = [*range(10)] # With this operator we can unpack any iterables\n",
    "print(values)"
   ]
  },
  {
   "cell_type": "code",
   "execution_count": 69,
   "metadata": {},
   "outputs": [
    {
     "name": "stdout",
     "output_type": "stream",
     "text": [
      "['H', 'e', 'l', 'l', 'o', ' ', 'M', 'i', 'g', 'u', 'e', 'l']\n"
     ]
    }
   ],
   "source": [
    "my_text = [*\"Hello Miguel\"]\n",
    "print(my_text)"
   ]
  },
  {
   "cell_type": "code",
   "execution_count": 70,
   "metadata": {},
   "outputs": [
    {
     "name": "stdout",
     "output_type": "stream",
     "text": [
      "[1, 2, 3, 4, 5, 6, 7, 8, 9, 10]\n"
     ]
    }
   ],
   "source": [
    "# We can combine multiple list\n",
    "list_1 = [1, 2, 3, 4, 5]\n",
    "list_2 = [6, 7, 8, 9, 10]\n",
    "combined_lists = [*list_1, *list_2]\n",
    "print(combined_lists)\n"
   ]
  },
  {
   "cell_type": "code",
   "execution_count": 71,
   "metadata": {},
   "outputs": [
    {
     "name": "stdout",
     "output_type": "stream",
     "text": [
      "{'a': 1, 'b': 4, 'c': 6}\n"
     ]
    }
   ],
   "source": [
    "# We can also unpack dictonaries but we have to use **\n",
    "\n",
    "dict_1 = {\"a\": 1, \"b\": 2}\n",
    "dict_2 = {\"b\": 4, \"c\": 6}\n",
    "combined_dict = {**dict_1, **dict_2} \n",
    "print(combined_dict)"
   ]
  },
  {
   "cell_type": "code",
   "execution_count": null,
   "metadata": {},
   "outputs": [],
   "source": []
  }
 ],
 "metadata": {
  "kernelspec": {
   "display_name": "Python 3",
   "language": "python",
   "name": "python3"
  },
  "language_info": {
   "codemirror_mode": {
    "name": "ipython",
    "version": 3
   },
   "file_extension": ".py",
   "mimetype": "text/x-python",
   "name": "python",
   "nbconvert_exporter": "python",
   "pygments_lexer": "ipython3",
   "version": "3.8.8"
  }
 },
 "nbformat": 4,
 "nbformat_minor": 4
}
